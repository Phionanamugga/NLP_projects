{
 "cells": [
  {
   "cell_type": "markdown",
   "id": "bd4ebdb6",
   "metadata": {},
   "source": [
    "# End-to-End NLP Pipeline for Customer Sentiment Analysis of Amazon Food\n",
    "\n",
    "## Problem Statement\n",
    "\n",
    "Business Problem: Amazon seeks to enhance customer satisfaction by analyzing sentiment in the food sold on its website. Understanding whether reviews are  negative,positive, or neutral can guide marketing strategies,product improvements,  and customer service satisfaction.\n",
    "\n",
    "Importance: Positive sentiment drives customer loyalty, while negative sentiment can harm brand reputation. An automated sentiment analysis system enables reducing manual review efforts ,real-time insights,  and enabling data-driven decisions.\n",
    "\n",
    "Data Collection: We use the Food Reviews Dataset for Amazon, a publicly available dataset on Kaggle having 500,000 reviews by customer with star ratings (1-5). I have mapped out ratings to sentiments: 1-2 (Negative), 3 (Neutral), 4-5 (Positive). This dataset is ideal due to its  diversity, size,and relevance to retail.\n",
    "\n",
    "NLP Task: The problem has been formulated as a multi-class text classification task, where the inputs are the review texts, and outputs are the sentiments (negative, positive, neutral).\n",
    "\n",
    "Benefits: The pipeline will enable the company to prioritize customer concerns,monitor sentiment trends,  and improve product offerings, ultimately boosting revenue and customer retention.\n",
    "\n",
    "System Design\n",
    "The Natural_Langauage_Processing pipeline contains the following; connected sequentially to process textual data:\n",
    "\n",
    "Data Collection: Load and sample the Amazon Food Reviews dataset to ensure manageability.\n",
    "Preprocessing: Text has been cleaned by (removing stopwords, punctuation, lemmatize).\n",
    "\n",
    "Feature Extraction: TF-IDF has been used for baseline models and BERT embeddings for better accuracy.\n",
    "\n",
    "Model Training: A logistic regression model  has been tarined as the baseline and a fine tuning has been done using BERT model for better accuracy.\n",
    "Evaluation: Assessment of precision,accuracy,  recall, F1-score, and confusion matrix has been done.\n",
    "Discussion: Analyze results, limitations, and business implications.\n",
    "\n",
    "\n",
    "\n",
    "1. Data Acquisition\n",
    "\n",
    "We load a subset of the Amazon Reviews dataset (100,000 reviews) to balance computational efficiency and representativeness. The dataset is sourced from Amazon’s public repository."
   ]
  },
  {
   "cell_type": "code",
   "execution_count": 1,
   "id": "3139b7c6",
   "metadata": {},
   "outputs": [],
   "source": [
    "# Importing libraries for the data collection\n",
    "import numpy as np\n",
    "import pandas as pd\n",
    "import nltk\n",
    "from nltk.corpus import stopwords\n",
    "from nltk.tokenize import word_tokenize\n",
    "from nltk.stem import WordNetLemmatizer\n",
    "from sklearn.feature_extraction.text import TfidfVectorizer\n",
    "from transformers import BertTokenizer, BertModel\n",
    "import torch\n",
    "from sklearn.model_selection import train_test_split\n",
    "from sklearn.linear_model import LogisticRegression\n",
    "from sklearn.preprocessing import LabelEncoder\n",
    "from transformers import TFBertForSequenceClassification\n",
    "from sklearn.metrics import accuracy_score, classification_report\n",
    "from sklearn.metrics import confusion_matrix\n",
    "import seaborn as sns\n",
    "import matplotlib.pyplot as plt"
   ]
  },
  {
   "cell_type": "code",
   "execution_count": 2,
   "id": "334748b8",
   "metadata": {},
   "outputs": [],
   "source": [
    "# loading the Dataset\n",
    "df_nlp = pd.read_csv(\"/Users/phionanamugga/Documents/coding/datascience/NLP_projects/AmazonFoodReviews.csv\", on_bad_lines='skip')"
   ]
  },
  {
   "cell_type": "markdown",
   "id": "13096c8f",
   "metadata": {},
   "source": [
    "2. Data Exploration"
   ]
  },
  {
   "cell_type": "code",
   "execution_count": null,
   "id": "b2bf7918",
   "metadata": {},
   "outputs": [],
   "source": [
    "# Getting summary information i.e data type, null columns and column names\n",
    "df_nlp.info()"
   ]
  },
  {
   "cell_type": "code",
   "execution_count": null,
   "id": "5d1631c0",
   "metadata": {},
   "outputs": [],
   "source": [
    "#Checking for the Summary description of the Dataset\n",
    "df_nlp.describe()"
   ]
  },
  {
   "cell_type": "code",
   "execution_count": null,
   "id": "a58721c9",
   "metadata": {},
   "outputs": [],
   "source": [
    "# Checking for the headings in the dataset\n",
    "df_nlp.head()"
   ]
  },
  {
   "cell_type": "code",
   "execution_count": null,
   "id": "f9c879b7",
   "metadata": {},
   "outputs": [],
   "source": [
    "# Checking for the value counts of each star rating\n",
    "print(df_nlp['Score'].value_counts())"
   ]
  },
  {
   "cell_type": "code",
   "execution_count": null,
   "id": "39f09585",
   "metadata": {},
   "outputs": [],
   "source": [
    "# Mapping Star ratings to Sentiment\n",
    "df_nlp['Sentiment'] = df_nlp['Score'].map({1: 'negative', 2: 'negative', 3: 'neutral', 4: 'positive', 5: 'positive'})\n",
    "df_nlp = df_nlp[['Text', 'Sentiment']].dropna()"
   ]
  },
  {
   "cell_type": "code",
   "execution_count": null,
   "id": "a8849e6d",
   "metadata": {},
   "outputs": [],
   "source": [
    "# Printing Column names to verify information\n",
    "print(\"column names:\", df_nlp.columns)"
   ]
  }
 ],
 "metadata": {
  "kernelspec": {
   "display_name": "venv",
   "language": "python",
   "name": "python3"
  },
  "language_info": {
   "codemirror_mode": {
    "name": "ipython",
    "version": 3
   },
   "file_extension": ".py",
   "mimetype": "text/x-python",
   "name": "python",
   "nbconvert_exporter": "python",
   "pygments_lexer": "ipython3",
   "version": "3.12.2"
  }
 },
 "nbformat": 4,
 "nbformat_minor": 5
}
